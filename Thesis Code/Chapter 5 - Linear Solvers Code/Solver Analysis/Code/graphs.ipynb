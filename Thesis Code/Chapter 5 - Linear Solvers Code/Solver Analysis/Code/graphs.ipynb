{
 "cells": [
  {
   "cell_type": "code",
   "execution_count": 1,
   "id": "fed32c2e-0e23-4aec-8b78-723df3fcde63",
   "metadata": {},
   "outputs": [
    {
     "ename": "ModuleNotFoundError",
     "evalue": "No module named 'pandas'",
     "output_type": "error",
     "traceback": [
      "\u001b[0;31m---------------------------------------------------------------------------\u001b[0m",
      "\u001b[0;31mModuleNotFoundError\u001b[0m                       Traceback (most recent call last)",
      "Cell \u001b[0;32mIn[1], line 1\u001b[0m\n\u001b[0;32m----> 1\u001b[0m \u001b[38;5;28;01mimport\u001b[39;00m \u001b[38;5;21;01mpandas\u001b[39;00m \u001b[38;5;28;01mas\u001b[39;00m \u001b[38;5;21;01mpd\u001b[39;00m\n\u001b[1;32m      2\u001b[0m \u001b[38;5;28;01mimport\u001b[39;00m \u001b[38;5;21;01mmatplotlib\u001b[39;00m\u001b[38;5;21;01m.\u001b[39;00m\u001b[38;5;21;01mpyplot\u001b[39;00m \u001b[38;5;28;01mas\u001b[39;00m \u001b[38;5;21;01mplt\u001b[39;00m\n\u001b[1;32m      3\u001b[0m \u001b[38;5;28;01mimport\u001b[39;00m \u001b[38;5;21;01mos\u001b[39;00m\n",
      "\u001b[0;31mModuleNotFoundError\u001b[0m: No module named 'pandas'"
     ]
    }
   ],
   "source": [
    "import pandas as pd\n",
    "import matplotlib.pyplot as plt\n",
    "import os\n",
    "\n",
    "# Specify the directory where the files are stored\n",
    "directory = os.getcwd()\n",
    "\n",
    "# List to hold all the dataframes\n",
    "dataframes = []\n",
    "\n",
    "# Loop through each file in the directory\n",
    "for filename in os.listdir(directory):\n",
    "    if filename.startswith(\"p-SciPy_Solve-n-\") and filename.endswith(\".csv\"):\n",
    "        parts = filename.split('-')\n",
    "        n_value = int(parts[3])\n",
    "        p_value = int(parts[5].split('.')[0])\n",
    "\n",
    "        if p_value == 5000:  # Check if p equals 5000\n",
    "            df = pd.read_csv(os.path.join(directory, filename))\n",
    "            df['n'] = n_value  # Add n_value as a column if not already included\n",
    "            dataframes.append(df)\n",
    "\n",
    "# Combine all dataframes into a single dataframe\n",
    "results_df = pd.concat(dataframes)\n",
    "\n",
    "# Sort the DataFrame based on 'n' value to ensure the plot is ordered\n",
    "results_df.sort_values('n', inplace=True)\n",
    "\n",
    "plt.figure(figsize=(10, 6))\n",
    "plt.plot(results_df['n'], results_df['time'], marker='o', linestyle='-')\n",
    "plt.title('Time vs. n for p = 5000')\n",
    "plt.xlabel('n')\n",
    "plt.ylabel('Time (seconds)')\n",
    "plt.grid(True)\n",
    "plt.show()"
   ]
  },
  {
   "cell_type": "code",
   "execution_count": null,
   "id": "245362d0-6c55-4bd2-a622-bff4e1fcd36a",
   "metadata": {},
   "outputs": [],
   "source": []
  }
 ],
 "metadata": {
  "kernelspec": {
   "display_name": "Python 3.10.8 (ipykernel)",
   "language": "python",
   "name": "python3"
  },
  "language_info": {
   "codemirror_mode": {
    "name": "ipython",
    "version": 3
   },
   "file_extension": ".py",
   "mimetype": "text/x-python",
   "name": "python",
   "nbconvert_exporter": "python",
   "pygments_lexer": "ipython3",
   "version": "3.10.8"
  }
 },
 "nbformat": 4,
 "nbformat_minor": 5
}
